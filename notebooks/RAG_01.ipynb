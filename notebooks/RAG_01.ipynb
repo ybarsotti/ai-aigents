{
 "cells": [
  {
   "cell_type": "code",
   "execution_count": 65,
   "id": "423a9e93-ed6a-4c09-86eb-6d8eebef20cf",
   "metadata": {
    "scrolled": true
   },
   "outputs": [],
   "source": [
    "from dotenv import load_dotenv\n",
    "import os\n",
    "\n",
    "DATA_DIR=\"./data\"\n",
    "load_dotenv() \n",
    "\n",
    "if not os.getenv(\"GOOGLE_API_KEY\"):\n",
    "    os.environ[\"GOOGLE_API_KEY\"] = os.getenv(\"GEMINI_API_KEY\")"
   ]
  },
  {
   "cell_type": "code",
   "execution_count": 81,
   "id": "44cc7d1a-9294-4bb7-a899-3e56673a473f",
   "metadata": {
    "scrolled": true
   },
   "outputs": [
    {
     "name": "stdout",
     "output_type": "stream",
     "text": [
      "Requirement already satisfied: sentence-transformers in /usr/local/lib/python3.10/site-packages (4.1.0)\n",
      "Requirement already satisfied: scikit-learn in /usr/local/lib/python3.10/site-packages (from sentence-transformers) (1.6.1)\n",
      "Requirement already satisfied: scipy in /usr/local/lib/python3.10/site-packages (from sentence-transformers) (1.15.2)\n",
      "Requirement already satisfied: transformers<5.0.0,>=4.41.0 in /usr/local/lib/python3.10/site-packages (from sentence-transformers) (4.51.3)\n",
      "Requirement already satisfied: Pillow in /usr/local/lib/python3.10/site-packages (from sentence-transformers) (11.2.1)\n",
      "Requirement already satisfied: tqdm in /usr/local/lib/python3.10/site-packages (from sentence-transformers) (4.67.1)\n",
      "Requirement already satisfied: torch>=1.11.0 in /usr/local/lib/python3.10/site-packages (from sentence-transformers) (2.6.0)\n",
      "Requirement already satisfied: typing_extensions>=4.5.0 in /usr/local/lib/python3.10/site-packages (from sentence-transformers) (4.13.2)\n",
      "Requirement already satisfied: huggingface-hub>=0.20.0 in /usr/local/lib/python3.10/site-packages (from sentence-transformers) (0.30.2)\n",
      "Requirement already satisfied: pyyaml>=5.1 in /usr/local/lib/python3.10/site-packages (from huggingface-hub>=0.20.0->sentence-transformers) (6.0.2)\n",
      "Requirement already satisfied: filelock in /usr/local/lib/python3.10/site-packages (from huggingface-hub>=0.20.0->sentence-transformers) (3.18.0)\n",
      "Requirement already satisfied: fsspec>=2023.5.0 in /usr/local/lib/python3.10/site-packages (from huggingface-hub>=0.20.0->sentence-transformers) (2025.3.2)\n",
      "Requirement already satisfied: packaging>=20.9 in /usr/local/lib/python3.10/site-packages (from huggingface-hub>=0.20.0->sentence-transformers) (24.2)\n",
      "Requirement already satisfied: requests in /usr/local/lib/python3.10/site-packages (from huggingface-hub>=0.20.0->sentence-transformers) (2.32.3)\n",
      "Requirement already satisfied: networkx in /usr/local/lib/python3.10/site-packages (from torch>=1.11.0->sentence-transformers) (3.4.2)\n",
      "Requirement already satisfied: sympy==1.13.1 in /usr/local/lib/python3.10/site-packages (from torch>=1.11.0->sentence-transformers) (1.13.1)\n",
      "Requirement already satisfied: jinja2 in /usr/local/lib/python3.10/site-packages (from torch>=1.11.0->sentence-transformers) (3.1.6)\n",
      "Requirement already satisfied: mpmath<1.4,>=1.1.0 in /usr/local/lib/python3.10/site-packages (from sympy==1.13.1->torch>=1.11.0->sentence-transformers) (1.3.0)\n",
      "Requirement already satisfied: numpy>=1.17 in /usr/local/lib/python3.10/site-packages (from transformers<5.0.0,>=4.41.0->sentence-transformers) (2.2.5)\n",
      "Requirement already satisfied: safetensors>=0.4.3 in /usr/local/lib/python3.10/site-packages (from transformers<5.0.0,>=4.41.0->sentence-transformers) (0.5.3)\n",
      "Requirement already satisfied: tokenizers<0.22,>=0.21 in /usr/local/lib/python3.10/site-packages (from transformers<5.0.0,>=4.41.0->sentence-transformers) (0.21.1)\n",
      "Requirement already satisfied: regex!=2019.12.17 in /usr/local/lib/python3.10/site-packages (from transformers<5.0.0,>=4.41.0->sentence-transformers) (2024.11.6)\n",
      "Requirement already satisfied: joblib>=1.2.0 in /usr/local/lib/python3.10/site-packages (from scikit-learn->sentence-transformers) (1.4.2)\n",
      "Requirement already satisfied: threadpoolctl>=3.1.0 in /usr/local/lib/python3.10/site-packages (from scikit-learn->sentence-transformers) (3.6.0)\n",
      "Requirement already satisfied: MarkupSafe>=2.0 in /usr/local/lib/python3.10/site-packages (from jinja2->torch>=1.11.0->sentence-transformers) (3.0.2)\n",
      "Requirement already satisfied: urllib3<3,>=1.21.1 in /usr/local/lib/python3.10/site-packages (from requests->huggingface-hub>=0.20.0->sentence-transformers) (2.4.0)\n",
      "Requirement already satisfied: charset-normalizer<4,>=2 in /usr/local/lib/python3.10/site-packages (from requests->huggingface-hub>=0.20.0->sentence-transformers) (3.4.1)\n",
      "Requirement already satisfied: certifi>=2017.4.17 in /usr/local/lib/python3.10/site-packages (from requests->huggingface-hub>=0.20.0->sentence-transformers) (2025.1.31)\n",
      "Requirement already satisfied: idna<4,>=2.5 in /usr/local/lib/python3.10/site-packages (from requests->huggingface-hub>=0.20.0->sentence-transformers) (3.10)\n",
      "\u001b[33mWARNING: Running pip as the 'root' user can result in broken permissions and conflicting behaviour with the system package manager. It is recommended to use a virtual environment instead: https://pip.pypa.io/warnings/venv\u001b[0m\u001b[33m\n",
      "\u001b[0m\n",
      "\u001b[1m[\u001b[0m\u001b[34;49mnotice\u001b[0m\u001b[1;39;49m]\u001b[0m\u001b[39;49m A new release of pip is available: \u001b[0m\u001b[31;49m23.0.1\u001b[0m\u001b[39;49m -> \u001b[0m\u001b[32;49m25.1.1\u001b[0m\n",
      "\u001b[1m[\u001b[0m\u001b[34;49mnotice\u001b[0m\u001b[1;39;49m]\u001b[0m\u001b[39;49m To update, run: \u001b[0m\u001b[32;49mpip install --upgrade pip\u001b[0m\n"
     ]
    }
   ],
   "source": [
    "# Let's first load the document\n",
    "from langchain_community.document_loaders import PyPDFLoader, TextLoader, DirectoryLoader\n",
    "from langchain_text_splitters import RecursiveCharacterTextSplitter\n",
    "\n",
    "file_path = DATA_DIR + \"/_1_cv_yuri_barsotti_mendes.pdf\"\n",
    "pdf_loader = PyPDFLoader(file_path,\n",
    "                    mode=\"single\")\n",
    "\n",
    "txt_loader = DirectoryLoader(DATA_DIR, glob='**/*.txt', loader_cls=TextLoader)\n",
    "pdf_doc = pdf_loader.load()\n",
    "txt_docs = txt_loader.load()\n",
    "\n",
    "# Joining all docs since I have more than one type\n",
    "all_docs = pdf_doc + txt_docs\n",
    "\n",
    "# It's a good practice to break the text into smaller chinks\n",
    "splitter = RecursiveCharacterTextSplitter(chunk_size=500, chunk_overlap=100)\n",
    "split_docs = splitter.split_documents(all_docs)\n"
   ]
  },
  {
   "cell_type": "code",
   "execution_count": 84,
   "id": "95029603-e644-49bf-acbe-706307a672ae",
   "metadata": {
    "scrolled": true
   },
   "outputs": [
    {
     "data": {
      "text/plain": [
       "['46fe028f-ef63-4456-9fe4-1dc059d0feb1',\n",
       " '5f9c8f9b-631c-4e84-8657-5e1d4918f939',\n",
       " 'f3db0539-aa7a-47b4-b3c9-5eb86231b132',\n",
       " '5e7ffff5-cb2f-4f73-89d7-d1052f4ff05c',\n",
       " '96b71abd-2ab0-4f49-964a-0c78b952c7fc',\n",
       " '80b94b9b-3347-4690-919f-c496558a58a5',\n",
       " '642685ad-a13c-4707-aa0a-ec81761c5a69',\n",
       " 'cd0e980b-f243-4164-8f2b-b23a959f0511',\n",
       " '3863a8be-5e5f-4cff-9b1d-b7420a8d943a',\n",
       " 'a5feb1f4-0ca2-4266-81a2-89f10de7bd00',\n",
       " 'c2d3a3d1-9c43-4510-9b43-fd619a2d39e4',\n",
       " '5dd98d63-19fa-42a1-b38b-c04dd9f7be55',\n",
       " '443d76b4-3f48-4157-8037-a4785f280443',\n",
       " 'd1ba12ce-3d6f-4bb9-a165-e284c3c4664a',\n",
       " 'a3e6c840-74e2-4cc2-8805-13eccf6db33d',\n",
       " 'd28fa955-74a1-46ae-8679-73ebf4d6fd11',\n",
       " '78bca169-9520-40e7-9952-30ae2c93cd6d',\n",
       " '5971b9c6-1a58-4e1c-adab-03ef2bf45926',\n",
       " '93813d20-84d9-4fb3-99fb-03dfe19b64c7',\n",
       " 'e939226c-b721-4af6-80f6-200bd2876991',\n",
       " '2f9de72c-e65b-47f4-8080-a541b9bef75c',\n",
       " 'cecde43c-a745-4ce0-99b3-3f81db28c3ac',\n",
       " '7a5c3d85-92ea-4644-abdd-3cb85be1d91c',\n",
       " '7b9bd238-cced-447e-94b4-2c8f54894b25',\n",
       " '0925a7a8-1896-432e-becb-6572a38960f1',\n",
       " '42e7cccb-8254-464e-b98f-7094783d7411',\n",
       " 'e01e2bc7-561f-400a-8701-40f39b6896e3',\n",
       " '9f892922-ae70-4423-888a-ea09b0e0f544',\n",
       " '72c624db-ad73-4c36-a13c-c554c2c3f6fa',\n",
       " 'a6e11232-9ed2-4d33-bee4-5877a32e159b',\n",
       " '47191a42-7078-4be0-a425-ba0c28b499aa',\n",
       " '7f2a9cf9-0382-4a21-ae97-5dbdc72c1881',\n",
       " 'dd30b559-c11f-415b-8338-011681c50327',\n",
       " '1f8650e9-e1ed-49d6-860b-40b7150de394',\n",
       " '5968276f-43b7-434a-a144-0c8588de2f0e',\n",
       " 'cac9a88e-4e1b-4dd7-a121-5e0820d7af94',\n",
       " '15b2dd68-ed45-426b-a491-c6b58a225a8a',\n",
       " 'b17c85ad-4044-4cef-ab0d-b2e62a91c56c',\n",
       " '66a9763b-2f09-4ce2-b2b3-bbe81adef249',\n",
       " '3be43945-5327-4d96-9a63-7c97fa072c4e',\n",
       " 'f6a7ffa3-2c6e-4d9a-87c4-9bcd6b5b64b8',\n",
       " '4f73f684-f5cf-40cc-91e5-611f9c49e011',\n",
       " '45d5ea58-a212-4e9e-9c61-e26515578429',\n",
       " '8e7d2366-cf63-416f-b133-2b58b3ac794f',\n",
       " 'd35b897f-1a4f-413e-9d9a-108e663e85d6',\n",
       " '4ec301a3-b907-4312-a559-0c341e939c53',\n",
       " '2221f861-fdca-4319-8648-241e7e5fa0cf',\n",
       " 'a00d0eca-3f94-48b4-a339-39210123deed',\n",
       " '56237190-1441-4ac4-a8ae-3a8657b4836a',\n",
       " '06739caa-0bef-4eff-9db5-29cd52d65a35',\n",
       " '27e08b5a-6fa9-45da-8993-70119bdf55e4',\n",
       " '10131dad-cafa-4808-83eb-87bc685c3a03',\n",
       " '7a162893-cd34-4409-936e-c84fd180a520',\n",
       " '5d16f655-c816-4c9f-a162-c270adda0671',\n",
       " 'ebd90ee4-feac-44fe-88fc-20ee78121324',\n",
       " '69bec88c-9faf-42be-a181-1dfe4b5619e1',\n",
       " '04c33f67-1cb1-4d9d-96cc-1abc453f066d',\n",
       " 'be6931c7-c4d4-403c-b68c-25dd84db8da2',\n",
       " '9ae95d1f-5720-44b7-806a-e92dbda6af63',\n",
       " '56bc0832-a67c-4b9e-bdd3-5c733d81ecfa',\n",
       " '22a60b69-8c25-431c-8eec-8f8ea7e0c7f1',\n",
       " '45a21089-e698-40d3-8af5-84f65bf0322e',\n",
       " '31c0ee19-cfc5-4063-859d-54ace9e9fae6',\n",
       " '3fbac1a3-41ba-4d0c-aee4-6e82575b5cc7',\n",
       " 'cfa1da18-7972-462d-9c79-7fe7ab978837',\n",
       " '7300cb58-4961-4b3a-9ef3-58afc0ae71b8',\n",
       " 'ff44b44b-c5b1-4ea0-862c-3b2d5b1f76fe',\n",
       " 'e852e1a0-719e-4ab2-bcb4-9fabb82d696a',\n",
       " '1ee50624-e712-483b-8a5f-a9058a6c8880',\n",
       " '76a7c72e-ce21-4612-a9d0-1df03ec37102',\n",
       " 'be7f233b-0b5b-4d83-a5ec-36447b560b6d',\n",
       " '455d98e4-76d2-4cae-bcf1-2279186d7c17']"
      ]
     },
     "execution_count": 84,
     "metadata": {},
     "output_type": "execute_result"
    }
   ],
   "source": [
    "# embedding text\n",
    "from langchain_google_genai import GoogleGenerativeAIEmbeddings\n",
    "from langchain_chroma import Chroma\n",
    "from uuid import uuid4\n",
    "from langchain_community.embeddings import HuggingFaceEmbeddings\n",
    "\n",
    "embeddings = HuggingFaceEmbeddings(\n",
    "    model_name=\"sentence-transformers/all-MiniLM-L6-v2\"\n",
    ")\n",
    "# Cannot use This AIEmbedding for now, quota excceeded\n",
    "# embeddings = GoogleGenerativeAIEmbeddings(model=\"models/gemini-embedding-exp-03-07\")\n",
    "vector_store = Chroma(\n",
    "    collection_name=\"yuri_data_1\",\n",
    "    embedding_function=embeddings,\n",
    "    persist_directory=\"./chroma_db\",\n",
    ")\n",
    "\n",
    "# Is this a good idea?\n",
    "ids = [str(uuid4()) for _ in range(len(split_docs))]\n",
    "\n",
    "vector_store.add_documents(documents=split_docs, ids=ids)"
   ]
  },
  {
   "cell_type": "code",
   "execution_count": 106,
   "id": "aa939679-50ed-4133-94ea-6d774655f2be",
   "metadata": {
    "scrolled": true
   },
   "outputs": [
    {
     "name": "stdout",
     "output_type": "stream",
     "text": [
      "Description: Developed during a game jam, URUBU is a 3D horror game set in Brazil with PS1-style visuals and an eerie, immersive atmosphere. The game was voted the winner of the jam and featured in a full article: https://www.nerdmaldito.com/2024/03/urubu-terror-ambientado-no-brasil.html. As a team, we built a complete MVP demo featuring a gripping intro, gameplay loop, and narrative hook for future expansion. This was my first 3D game, where I learned key concepts in game architecture and\n",
      "Role: Designed and developed the entire game loop using Godot and GDScript, focusing on performance and gameplay feel. Adapted external assets and built the scene structure from the ground up.\n",
      "Tech stack: ['Godot', 'Aseprite', 'GDScript']\n",
      "Category: Game\n",
      "------------------------------------------\n",
      "Title: URUBU – Brazilian Horror Game\n",
      "Company: Gamejam Team (noname)\n",
      "Date: Aug 2024 - Sep 2024\n",
      "Education\n",
      "FullCycle University, Remote Jan 2024 - Dec 2025\n",
      "MBA in Software Architecture\n",
      "Anhembi Morumbi University, São Paulo, Brazil Jan 2017 - Dec 2021\n",
      "BSc in Computer Science\n"
     ]
    }
   ],
   "source": [
    "# Query data\n",
    "retriever = vector_store.as_retriever(search_kwargs={\"k\": 4})\n"
   ]
  },
  {
   "cell_type": "code",
   "execution_count": 112,
   "id": "a7dc4ead-290d-40f3-811c-3915be96022c",
   "metadata": {},
   "outputs": [
    {
     "name": "stdout",
     "output_type": "stream",
     "text": [
      "{'input': 'How many years of experience he has with Python?', 'context': [Document(id='cd0e980b-f243-4164-8f2b-b23a959f0511', metadata={'source': 'data/tech_experience.txt'}, page_content='Python: 6 years\\nJavaScript: 6 years\\nTypeScript: 5 years\\nGolang: 1 years\\nDjango: 5 years\\nNestJS: 4 years\\nReact: 5 years\\nNext.js: 4 years\\nNode.js: 5 years\\nAWS: 4 years\\nDocker: 5 years\\nCI/CD: 5 years\\nRabbitMQ: 2 years\\nRelational database: 7 years\\nRedis: 5 years\\nUML: 7 years\\nC4: 5 years\\nDDD: 4 years\\nClean Architecture: 4 years\\nMicroservices: 1 years'), Document(id='443d76b4-3f48-4157-8037-a4785f280443', metadata={'source': 'data/projects.txt'}, page_content=\"Role: Focused on hands-on implementations and collaborative decision-making with the team to define architectural standards and optimize project structures. Developed automation scripts in Python to streamline repetitive tasks, enhancing team efficiency and delivery speed. Recognized for proactive contributions, high-quality deliveries, and accelerating project outcomes.\\nTech stack: ['Next.js', 'Django', 'TypeScript', 'Python', 'DataDog', 'Sentry']\\nCategory: Application\"), Document(id='e01e2bc7-561f-400a-8701-40f39b6896e3', metadata={'source': 'data/projects.txt'}, page_content='in C++, which improved processing speed by 400% compared to a Python version. Implemented a multi-role and multi-tenant architecture. Set up CI/CD pipelines using GitHub Actions to streamline deployment and testing processes.')], 'answer': \"Yuri has around 6 years of experience with Python 🐍, and he's quite the automation enthusiast, using it to streamline tasks and boost efficiency.  In one project, he even developed automation scripts in Python, significantly improving the team's delivery speed.  I can tell you more about that project if you'd like!\\n\\nDo you have any other questions about him? I'll be happy to answer 😊\"}\n"
     ]
    }
   ],
   "source": [
    "from langchain_google_genai import ChatGoogleGenerativeAI\n",
    "from langchain.chains.retrieval import create_retrieval_chain\n",
    "from langchain.chains.combine_documents import create_stuff_documents_chain\n",
    "from langchain_core.prompts import ChatPromptTemplate\n",
    "from langchain import hub\n",
    "\n",
    "system_instructions = ''\n",
    "with open(\"./llm_instructions/system_prompt.txt\", \"r\") as llm_instructions_f:\n",
    "    system_instructions = llm_instructions_f.read()\n",
    "\n",
    "prompt = ChatPromptTemplate.from_messages(\n",
    "    [\n",
    "        (\n",
    "            \"system\",\n",
    "            system_instructions,\n",
    "        ),\n",
    "        (\"human\", \"{input}\"),\n",
    "    ]\n",
    ")\n",
    "\n",
    "llm = ChatGoogleGenerativeAI(\n",
    "    model=\"gemini-1.5-pro\",\n",
    "    temperature=0.5,\n",
    "    max_tokens=300, # Reduced a bit, it's talking too much\n",
    "    max_retries=2\n",
    ")\n",
    "\n",
    "combine_docs_chain = create_stuff_documents_chain(\n",
    "    llm=llm,\n",
    "    prompt=prompt\n",
    ")\n",
    "retrieval_chain = create_retrieval_chain(retriever, combine_docs_chain)\n",
    "\n",
    "answer = retrieval_chain.invoke({\n",
    "    \"input\": \"How many years of experience does he have with Python?\"\n",
    "})\n",
    "print(answer)\n"
   ]
  }
 ],
 "metadata": {
  "kernelspec": {
   "display_name": "Python 3 (ipykernel)",
   "language": "python",
   "name": "python3"
  },
  "language_info": {
   "codemirror_mode": {
    "name": "ipython",
    "version": 3
   },
   "file_extension": ".py",
   "mimetype": "text/x-python",
   "name": "python",
   "nbconvert_exporter": "python",
   "pygments_lexer": "ipython3",
   "version": "3.10.17"
  }
 },
 "nbformat": 4,
 "nbformat_minor": 5
}
