{
 "cells": [
  {
   "cell_type": "code",
   "execution_count": 8,
   "id": "fe48cf76-f2d1-4347-8ba1-33f1560c9d03",
   "metadata": {},
   "outputs": [],
   "source": [
    "from dotenv import load_dotenv\n",
    "from google import genai\n",
    "load_dotenv() \n",
    "\n",
    "# Creating the client\n",
    "# The client gets the API key from the environment variable `GEMINI_API_KEY`.\n",
    "client = genai.Client()"
   ]
  },
  {
   "cell_type": "code",
   "execution_count": 9,
   "id": "3ac7d3a6-1e14-4ec7-aea4-c7201f9b1474",
   "metadata": {},
   "outputs": [
    {
     "name": "stdout",
     "output_type": "stream",
     "text": [
      "AI learns patterns from data to make decisions or predictions.\n"
     ]
    }
   ],
   "source": [
    "# Simple test\n",
    "response = client.models.generate_content(\n",
    "    model=\"gemini-2.5-flash\", contents=\"Explain how AI works in a few words\"\n",
    ")\n",
    "print(response.text)"
   ]
  },
  {
   "cell_type": "code",
   "execution_count": 14,
   "id": "5328cd26-76d8-4383-bb44-39852f21b12e",
   "metadata": {},
   "outputs": [
    {
     "name": "stdout",
     "output_type": "stream",
     "text": [
      "**Positive** (though very mildly so, leaning towards acceptable/satisfactory rather than enthusiastic).\n",
      "\n",
      "\"Ok\" indicates that it was acceptable and not negative, implying a basic level of satisfaction.\n"
     ]
    }
   ],
   "source": [
    "# Zero-shot prompting: No example or demonstration to the LLM\n",
    "response = client.models.generate_content(\n",
    "    model=\"gemini-2.5-flash\", \n",
    "    contents=\"Classify the text into neutral, negative or positive: Text: The time off was ok. Sentiment:\"\n",
    ")\n",
    "print(response.text)"
   ]
  },
  {
   "cell_type": "code",
   "execution_count": null,
   "id": "164b4c7c-020c-4e5a-b653-5b8a3a5018b1",
   "metadata": {},
   "outputs": [],
   "source": [
    "# Few-shot Enable in-context learning providing demonstration in the\n",
    "# prompt to steer the model to better performance\n",
    "prompt = '''\n",
    "    \n",
    "'''\n",
    "response = client.models.generate_content(\n",
    "    model=\"gemini-2.5-flash\", \n",
    "    contents=prompt\n",
    ")\n",
    "print(response.text)\n"
   ]
  }
 ],
 "metadata": {
  "kernelspec": {
   "display_name": "Python 3 (ipykernel)",
   "language": "python",
   "name": "python3"
  },
  "language_info": {
   "codemirror_mode": {
    "name": "ipython",
    "version": 3
   },
   "file_extension": ".py",
   "mimetype": "text/x-python",
   "name": "python",
   "nbconvert_exporter": "python",
   "pygments_lexer": "ipython3",
   "version": "3.10.18"
  }
 },
 "nbformat": 4,
 "nbformat_minor": 5
}
